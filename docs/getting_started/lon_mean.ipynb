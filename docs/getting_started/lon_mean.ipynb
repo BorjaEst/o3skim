{
 "cells": [
  {
   "cell_type": "markdown",
   "metadata": {},
   "source": [
    "# Reducing longitude coordinate in models"
   ]
  }
 ],
 "metadata": {
  "kernelspec": {
   "display_name": "Python 3.8.13 ('o3as')",
   "language": "python",
   "name": "python3"
  },
  "language_info": {
   "name": "python",
   "version": "3.8.13"
  },
  "orig_nbformat": 4,
  "vscode": {
   "interpreter": {
    "hash": "8b05fb1739426eede1ec566ddfeddd71ee7b4ae468f0847b16f9fff0c2321e0f"
   }
  }
 },
 "nbformat": 4,
 "nbformat_minor": 2
}
