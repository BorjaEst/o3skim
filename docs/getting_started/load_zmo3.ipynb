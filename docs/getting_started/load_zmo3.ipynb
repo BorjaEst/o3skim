{
 "cells": [
  {
   "cell_type": "markdown",
   "metadata": {},
   "source": [
    "# Loading Zonal Mean for fraction of Ozone in air"
   ]
  },
  {
   "cell_type": "markdown",
   "metadata": {},
   "source": [
    "Zonal Mean for fraction of Ozone (ZMO3), consists on the average for the *fraction of ozone in air* across Earth longitudes. For a detailed description about *fraction_of_o3_in_air* see the [CF Convention](https://cfconventions.org/Data/cf-standard-names/current/build/cf-standard-name-table.html) standard names for *mole_fraction_of_o3_in_air* and *mass_fraction_of_o3_in_air*. \n",
    "Note that both cases are equivalents as a fraction of ozone in air is a dimensionless quantity."
   ]
  },
  {
   "cell_type": "markdown",
   "metadata": {},
   "source": [
    "### Available models\n",
    "For this example you can use any of the mocking datasets available for testing. Using glob it is possible to list all the available models."
   ]
  },
  {
   "cell_type": "code",
   "execution_count": null,
   "metadata": {},
   "outputs": [],
   "source": [
    "import glob\n",
    "\n",
    "models = sorted(glob.glob(\"tests/datasets_zmo3/*\"))\n",
    "[d.split(\"/\")[-1] for d in models][0:4]  # Show first 4\n"
   ]
  },
  {
   "cell_type": "markdown",
   "metadata": {},
   "source": [
    "### How to use o3skim.load_zmo3\n",
    "After importing o3skim as any normal Python module, you can simply call for `o3skim.load_zmo3` function using the following arguments:\n",
    " - model_paths: Either a string glob in the form \"path/to/my/files/*.nc\" or an explicit list of files to open. Paths can be given as strings or as pathlib Paths.\n",
    " - model: Name of the model to load. The name is composed by Source, Institution and experiment acronyms separated by *_*. The function will match the available load scripts."
   ]
  },
  {
   "cell_type": "code",
   "execution_count": null,
   "metadata": {},
   "outputs": [],
   "source": [
    "import o3skim\n",
    "\n",
    "model_paths = \"tests/datasets_zmo3/CCMI-1_ACCESS_ACCESS-CCM-refC2/*.nc\"\n",
    "o3skim.load_zmo3(model_paths, model=\"CCMI-1_ACCESS_ACCESS-CCM-refC2\")"
   ]
  }
 ],
 "metadata": {
  "kernelspec": {
   "display_name": "Python 3.8.13 ('o3as')",
   "language": "python",
   "name": "python3"
  },
  "language_info": {
   "codemirror_mode": {
    "name": "ipython",
    "version": 3
   },
   "file_extension": ".py",
   "mimetype": "text/x-python",
   "name": "python",
   "nbconvert_exporter": "python",
   "pygments_lexer": "ipython3",
   "version": "3.8.5"
  },
  "orig_nbformat": 4,
  "vscode": {
   "interpreter": {
    "hash": "8b05fb1739426eede1ec566ddfeddd71ee7b4ae468f0847b16f9fff0c2321e0f"
   }
  }
 },
 "nbformat": 4,
 "nbformat_minor": 2
}
