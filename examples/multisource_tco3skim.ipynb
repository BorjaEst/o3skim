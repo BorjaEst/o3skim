{
 "cells": [
  {
   "cell_type": "markdown",
   "metadata": {},
   "source": [
    "Configure logging if you want to print function steps at `stderr`. "
   ]
  },
  {
   "cell_type": "code",
   "execution_count": 1,
   "metadata": {},
   "outputs": [],
   "source": [
    "import logging\n",
    "logging.basicConfig(level=\"INFO\")"
   ]
  },
  {
   "cell_type": "markdown",
   "metadata": {},
   "source": [
    "Define a process to load and save skimmed models. Note that multiprocessing is already applied by Dask on xarray level so for this example we will execute model skimming in sequence to optimise memory consumption without sacrificing too much speed."
   ]
  },
  {
   "cell_type": "code",
   "execution_count": 2,
   "metadata": {},
   "outputs": [],
   "source": [
    "import o3skim\n",
    "\n",
    "def skimming_process(model, paths):\n",
    "    dataset = o3skim.load_tco3(paths, model) # Loading and skimming of dataset\n",
    "    skimmed = o3skim.lon_mean(dataset)  # Dataset skimming reduction\n",
    "    skimmed.to_netcdf(f\"skimmed_{model}.nc\")  # Skimming file saving\n"
   ]
  },
  {
   "cell_type": "markdown",
   "metadata": {},
   "source": [
    "Define the list of models to skim and their locations."
   ]
  },
  {
   "cell_type": "code",
   "execution_count": 3,
   "metadata": {},
   "outputs": [],
   "source": [
    "models = [\n",
    "    (\"CCMI-1_CCCma_CMAM-refC2\", \"tests/datasets_tco3/CCMI-1_CCCma_CMAM-refC2/*.nc\"),\n",
    "    (\"CCMI-1_GSFC_GEOSCCM-refC2\", \"tests/datasets_tco3/CCMI-1_GSFC_GEOSCCM-refC2/*.nc\"),\n",
    "    (\"CCMI-1_IPSL_IPSL-refC2\", \"tests/datasets_tco3/CCMI-1_IPSL_IPSL-refC2/*.nc\"),\n",
    "    (\"CCMI-1_MRI_ESM1r1-refC2\", \"tests/datasets_tco3/CCMI-1_MRI_ESM1r1-refC2/*.nc\"),\n",
    "    (\"ECMWF_C3S_ERA5\", \"tests/datasets_tco3/ECMWF_C3S_ERA5/*.nc\"),\n",
    "]"
   ]
  },
  {
   "cell_type": "markdown",
   "metadata": {},
   "source": [
    "Pass the list of models to the skimming_process function. You can use a `for` loop or even list comprehension."
   ]
  },
  {
   "cell_type": "code",
   "execution_count": 4,
   "metadata": {},
   "outputs": [
    {
     "name": "stderr",
     "output_type": "stream",
     "text": [
      "INFO:o3skim.loadfunctions_tco3.CCMI-1_CCCma:Loading model data from: tests/datasets_tco3/CCMI-1_CCCma_CMAM-refC2/*.nc\n",
      "/home/borja/miniconda3/envs/o3as/lib/python3.8/site-packages/cf_xarray/accessor.py:1638: UserWarning: Variables {'areacella'} not found in object but are referred to in the CF attributes.\n",
      "  warnings.warn(\n",
      "/home/borja/miniconda3/envs/o3as/lib/python3.8/site-packages/xarray/conventions.py:450: UserWarning: Variable 'time' has datetime type and a bounds variable but time.encoding does not have units specified. The units encodings for 'time' and 'time_bnds' will be determined independently and may not be equal, counter to CF-conventions. If this is a concern, specify a units encoding for 'time' before writing to a file.\n",
      "  warnings.warn(\n",
      "INFO:o3skim.loadfunctions_tco3.CCMI-1_GSFC:Loading model data from: tests/datasets_tco3/CCMI-1_GSFC_GEOSCCM-refC2/*.nc\n",
      "/home/borja/miniconda3/envs/o3as/lib/python3.8/site-packages/cf_xarray/accessor.py:1638: UserWarning: Variables {'areacella'} not found in object but are referred to in the CF attributes.\n",
      "  warnings.warn(\n",
      "/home/borja/miniconda3/envs/o3as/lib/python3.8/site-packages/xarray/conventions.py:450: UserWarning: Variable 'time' has datetime type and a bounds variable but time.encoding does not have units specified. The units encodings for 'time' and 'time_bnds' will be determined independently and may not be equal, counter to CF-conventions. If this is a concern, specify a units encoding for 'time' before writing to a file.\n",
      "  warnings.warn(\n",
      "INFO:o3skim.loadfunctions_tco3.CCMI-1_IPSL:Loading model data from: tests/datasets_tco3/CCMI-1_IPSL_IPSL-refC2/*.nc\n",
      "/home/borja/miniconda3/envs/o3as/lib/python3.8/site-packages/cf_xarray/accessor.py:1638: UserWarning: Variables {'areacella'} not found in object but are referred to in the CF attributes.\n",
      "  warnings.warn(\n",
      "/home/borja/miniconda3/envs/o3as/lib/python3.8/site-packages/xarray/conventions.py:450: UserWarning: Variable 'time' has datetime type and a bounds variable but time.encoding does not have units specified. The units encodings for 'time' and 'time_bnds' will be determined independently and may not be equal, counter to CF-conventions. If this is a concern, specify a units encoding for 'time' before writing to a file.\n",
      "  warnings.warn(\n",
      "INFO:o3skim.loadfunctions_tco3.CCMI-1_MRI:Loading model data from: tests/datasets_tco3/CCMI-1_MRI_ESM1r1-refC2/*.nc\n",
      "/home/borja/miniconda3/envs/o3as/lib/python3.8/site-packages/cf_xarray/accessor.py:1638: UserWarning: Variables {'areacella'} not found in object but are referred to in the CF attributes.\n",
      "  warnings.warn(\n",
      "/home/borja/miniconda3/envs/o3as/lib/python3.8/site-packages/xarray/conventions.py:450: UserWarning: Variable 'time' has datetime type and a bounds variable but time.encoding does not have units specified. The units encodings for 'time' and 'time_bnds' will be determined independently and may not be equal, counter to CF-conventions. If this is a concern, specify a units encoding for 'time' before writing to a file.\n",
      "  warnings.warn(\n",
      "INFO:o3skim.loadfunctions_tco3.ECMWF_C3S:Loading model data from: tests/datasets_tco3/ECMWF_C3S_ERA5/*.nc\n"
     ]
    }
   ],
   "source": [
    "for model, paths in models:\n",
    "    skimming_process(model, paths)"
   ]
  }
 ],
 "metadata": {
  "kernelspec": {
   "display_name": "Python 3.8.5 ('o3as')",
   "language": "python",
   "name": "python3"
  },
  "language_info": {
   "codemirror_mode": {
    "name": "ipython",
    "version": 3
   },
   "file_extension": ".py",
   "mimetype": "text/x-python",
   "name": "python",
   "nbconvert_exporter": "python",
   "pygments_lexer": "ipython3",
   "version": "3.8.5"
  },
  "orig_nbformat": 4,
  "vscode": {
   "interpreter": {
    "hash": "8b05fb1739426eede1ec566ddfeddd71ee7b4ae468f0847b16f9fff0c2321e0f"
   }
  }
 },
 "nbformat": 4,
 "nbformat_minor": 2
}
